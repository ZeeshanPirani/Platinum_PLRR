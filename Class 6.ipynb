{
 "cells": [
  {
   "cell_type": "code",
   "execution_count": 1,
   "metadata": {},
   "outputs": [
    {
     "name": "stdout",
     "output_type": "stream",
     "text": [
      "2.0\n"
     ]
    }
   ],
   "source": [
    "z = 10 / 5\n",
    "print (z)"
   ]
  },
  {
   "cell_type": "code",
   "execution_count": 2,
   "metadata": {},
   "outputs": [
    {
     "name": "stdout",
     "output_type": "stream",
     "text": [
      "2\n"
     ]
    }
   ],
   "source": [
    "test = 10 // 5\n",
    "print (test)"
   ]
  },
  {
   "cell_type": "code",
   "execution_count": 3,
   "metadata": {},
   "outputs": [
    {
     "data": {
      "text/plain": [
       "0"
      ]
     },
     "execution_count": 3,
     "metadata": {},
     "output_type": "execute_result"
    }
   ],
   "source": [
    "5%5"
   ]
  },
  {
   "cell_type": "code",
   "execution_count": 9,
   "metadata": {},
   "outputs": [],
   "source": [
    "animal = \"dog\""
   ]
  },
  {
   "cell_type": "code",
   "execution_count": 10,
   "metadata": {},
   "outputs": [
    {
     "name": "stdout",
     "output_type": "stream",
     "text": [
      "yes its a dog\n"
     ]
    }
   ],
   "source": [
    "if animal == \"dog\" :\n",
    "    prin​if animal == \"dog\" :\n",
    "    print (\"yes its a dog\")t (\"yes its a dog\")"
   ]
  },
  {
   "cell_type": "code",
   "execution_count": null,
   "metadata": {},
   "outputs": [],
   "source": [
    "# if condition == true:\n",
    "#    order execute"
   ]
  },
  {
   "cell_type": "code",
   "execution_count": 13,
   "metadata": {},
   "outputs": [],
   "source": [
    "availabe_drink = \"pakola\""
   ]
  },
  {
   "cell_type": "code",
   "execution_count": 15,
   "metadata": {},
   "outputs": [
    {
     "ename": "SyntaxError",
     "evalue": "invalid syntax (<ipython-input-15-056a125cca2d>, line 10)",
     "output_type": "error",
     "traceback": [
      "\u001b[1;36m  File \u001b[1;32m\"<ipython-input-15-056a125cca2d>\"\u001b[1;36m, line \u001b[1;32m10\u001b[0m\n\u001b[1;33m    else if == \"Nothing will work\":\u001b[0m\n\u001b[1;37m          ^\u001b[0m\n\u001b[1;31mSyntaxError\u001b[0m\u001b[1;31m:\u001b[0m invalid syntax\n"
     ]
    }
   ],
   "source": [
    "if available_drink == \"roohafza\":\n",
    "    print(\"Happy!\")\n",
    "\n",
    "elif available_drink == \"Pakola\":\n",
    "    print(\"okay kam chalega\")\n",
    "    \n",
    "elif available_drink == \"pepsi\":\n",
    "    print(\"what the hell\")\n",
    "    \n",
    "else if == \"Nothing will work\":\n",
    "    print(\"Jamshreen! Rulaye ga kia?\")"
   ]
  },
  {
   "cell_type": "code",
   "execution_count": 13,
   "metadata": {},
   "outputs": [
    {
     "name": "stdout",
     "output_type": "stream",
     "text": [
      "Enter marks of the first subject: 70\n",
      "Enter marks of the second subject: 70\n",
      "Enter marks of the third subject: 70\n",
      "Enter marks of the fourth subject: 70\n",
      "Enter marks of the fifth subject: 70\n",
      "350\n",
      "This is the grade of your child: A\n"
     ]
    }
   ],
   "source": [
    "sub1=int(input(\"Enter marks of the first subject: \"))\n",
    "sub2=int(input(\"Enter marks of the second subject: \"))\n",
    "sub3=int(input(\"Enter marks of the third subject: \"))\n",
    "sub4=int(input(\"Enter marks of the fourth subject: \"))\n",
    "sub5=int(input(\"Enter marks of the fifth subject: \"))\n",
    "sum=(sub1+sub2+sub3+sub4+sub4)\n",
    "print(sum)\n",
    "# condition to be tasted\n",
    "marks = sum/5\n",
    "grade = \"\"\n",
    "if marks <= 100 and marks >= 80:\n",
    "    grade += \"A1\"\n",
    "elif marks <=79 and marks >= 70:\n",
    "    grade += \"A\"\n",
    "elif marks <=69 and marks >=60:\n",
    "    grade += \"B\"\n",
    "elif marks <=59 and marks >=50:\n",
    "    grade += \"C\"\n",
    "else:\n",
    "    grade += \"Fail\"\n",
    "print (\"This is the grade of your child:\",grade)"
   ]
  },
  {
   "cell_type": "code",
   "execution_count": null,
   "metadata": {},
   "outputs": [],
   "source": []
  }
 ],
 "metadata": {
  "kernelspec": {
   "display_name": "Python 3",
   "language": "python",
   "name": "python3"
  },
  "language_info": {
   "codemirror_mode": {
    "name": "ipython",
    "version": 3
   },
   "file_extension": ".py",
   "mimetype": "text/x-python",
   "name": "python",
   "nbconvert_exporter": "python",
   "pygments_lexer": "ipython3",
   "version": "3.7.4"
  }
 },
 "nbformat": 4,
 "nbformat_minor": 2
}
